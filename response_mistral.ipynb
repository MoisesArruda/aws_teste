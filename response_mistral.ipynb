{
 "cells": [
  {
   "cell_type": "code",
   "execution_count": 1,
   "metadata": {},
   "outputs": [],
   "source": [
    "import json\n",
    "import boto3\n",
    "from langchain.llms.bedrock import Bedrock"
   ]
  },
  {
   "cell_type": "code",
   "execution_count": 2,
   "metadata": {},
   "outputs": [],
   "source": [
    "bedrock_runtime=boto3.client(service_name=\"bedrock-runtime\", \n",
    "                             region_name='us-east-1')"
   ]
  },
  {
   "cell_type": "code",
   "execution_count": 5,
   "metadata": {},
   "outputs": [],
   "source": [
    "prompt=\"Faça uma resposta curta e objetiva: Qual a capital do rio de janeiro?\"\n",
    "\n",
    "kwargs={\n",
    " \"modelId\": \"mistral.mistral-7b-instruct-v0:2\",\n",
    " \"contentType\": \"application/json\",\n",
    " \"accept\": \"application/json\",\n",
    " \"body\": \"{\\\"prompt\\\":\\\"<s>[INST] Responde de forma sucinta: \" + prompt + \"[/INST]\\\", \\\"max_tokens\\\":200, \\\"temperature\\\":0.5, \\\"top_p\\\":0.9, \\\"top_k\\\":50}\"\n",
    " \n",
    "}"
   ]
  },
  {
   "cell_type": "code",
   "execution_count": 6,
   "metadata": {},
   "outputs": [
    {
     "name": "stdout",
     "output_type": "stream",
     "text": [
      " A capital administrativa do estado do Rio de Janeiro no Brasil é Rio de Janeiro, enquanto Brasília é a capital federal do país.\n"
     ]
    }
   ],
   "source": [
    "response = bedrock_runtime.invoke_model(**kwargs)\n",
    "response_body = json.loads(response.get('body').read())\n",
    "\n",
    "\n",
    "print(response_body['outputs'][0]['text'])"
   ]
  }
 ],
 "metadata": {
  "kernelspec": {
   "display_name": ".venv",
   "language": "python",
   "name": "python3"
  },
  "language_info": {
   "codemirror_mode": {
    "name": "ipython",
    "version": 3
   },
   "file_extension": ".py",
   "mimetype": "text/x-python",
   "name": "python",
   "nbconvert_exporter": "python",
   "pygments_lexer": "ipython3",
   "version": "3.10.10"
  }
 },
 "nbformat": 4,
 "nbformat_minor": 2
}
