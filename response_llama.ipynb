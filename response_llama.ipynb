{
 "cells": [
  {
   "cell_type": "code",
   "execution_count": 3,
   "metadata": {},
   "outputs": [],
   "source": [
    "import os\n",
    "from langchain.document_loaders import PyPDFLoader\n",
    "from langchain.text_splitter import RecursiveCharacterTextSplitter\n",
    "from langchain.embeddings import BedrockEmbeddings\n",
    "from langchain.vectorstores import FAISS\n",
    "from langchain.indexes import VectorstoreIndexCreator"
   ]
  },
  {
   "cell_type": "code",
   "execution_count": 4,
   "metadata": {},
   "outputs": [],
   "source": [
    "data_embeddings =BedrockEmbeddings(\n",
    "    credentials_profile_name=\"default\",\n",
    "    model_id = \"amazon.titan-embed-text-v1\")\n"
   ]
  },
  {
   "cell_type": "code",
   "execution_count": 5,
   "metadata": {},
   "outputs": [
    {
     "name": "stdout",
     "output_type": "stream",
     "text": [
      "<botocore.client.BedrockRuntime object at 0x00000256BA637940>\n"
     ]
    }
   ],
   "source": [
    "import json\n",
    "\n",
    "import boto3\n",
    "\n",
    "session = boto3.client(service_name='bedrock-runtime')\n",
    "\n",
    "#bedrock = session.client(service_name='bedrock-runtime') #creates a Bedrock client\n",
    "\n",
    "print(session)\n",
    "#bedrock_model_id = \"ai21.j2-ultra-v1\""
   ]
  },
  {
   "cell_type": "code",
   "execution_count": 6,
   "metadata": {},
   "outputs": [],
   "source": [
    "bedrock_runtime = boto3.client(\n",
    "    service_name='bedrock-runtime',\n",
    "    region_name='us-east-1')"
   ]
  },
  {
   "cell_type": "code",
   "execution_count": 7,
   "metadata": {},
   "outputs": [],
   "source": [
    "prompt = \"Hi\""
   ]
  },
  {
   "cell_type": "code",
   "execution_count": 14,
   "metadata": {},
   "outputs": [
    {
     "name": "stdout",
     "output_type": "stream",
     "text": [
      "{'modelId': 'meta.llama3-8b-instruct-v1:0', 'contentType': 'application/json', 'accept': 'application/json', 'body': '{\"prompt\":Hi,\"max_gen_len\":512,\"temperature\":0.5,\"top_p\":0.9}'}\n"
     ]
    }
   ],
   "source": [
    "kwargs ={\n",
    " \"modelId\": \"meta.llama3-8b-instruct-v1:0\",\n",
    " \"contentType\": \"application/json\",\n",
    " \"accept\": \"application/json\",\n",
    " \"body\": \"{\\\"prompt\\\":\\\"Hi, let´s talk about docker\\\",\\\"max_gen_len\\\":512,\\\"temperature\\\":0.5,\\\"top_p\\\":0.9}\"\n",
    "}\n",
    "\n",
    "print(kwargs)"
   ]
  },
  {
   "cell_type": "code",
   "execution_count": 15,
   "metadata": {},
   "outputs": [
    {
     "ename": "ValidationException",
     "evalue": "An error occurred (ValidationException) when calling the InvokeModel operation: Validation Error",
     "output_type": "error",
     "traceback": [
      "\u001b[1;31m---------------------------------------------------------------------------\u001b[0m",
      "\u001b[1;31mValidationException\u001b[0m                       Traceback (most recent call last)",
      "Cell \u001b[1;32mIn[15], line 1\u001b[0m\n\u001b[1;32m----> 1\u001b[0m response \u001b[38;5;241m=\u001b[39m bedrock_runtime\u001b[38;5;241m.\u001b[39minvoke_model(\u001b[38;5;241m*\u001b[39m\u001b[38;5;241m*\u001b[39mkwargs)\n\u001b[0;32m      3\u001b[0m response\n",
      "File \u001b[1;32mc:\\AI\\AWS\\.venv\\lib\\site-packages\\botocore\\client.py:565\u001b[0m, in \u001b[0;36mClientCreator._create_api_method.<locals>._api_call\u001b[1;34m(self, *args, **kwargs)\u001b[0m\n\u001b[0;32m    561\u001b[0m     \u001b[38;5;28;01mraise\u001b[39;00m \u001b[38;5;167;01mTypeError\u001b[39;00m(\n\u001b[0;32m    562\u001b[0m         \u001b[38;5;124mf\u001b[39m\u001b[38;5;124m\"\u001b[39m\u001b[38;5;132;01m{\u001b[39;00mpy_operation_name\u001b[38;5;132;01m}\u001b[39;00m\u001b[38;5;124m() only accepts keyword arguments.\u001b[39m\u001b[38;5;124m\"\u001b[39m\n\u001b[0;32m    563\u001b[0m     )\n\u001b[0;32m    564\u001b[0m \u001b[38;5;66;03m# The \"self\" in this scope is referring to the BaseClient.\u001b[39;00m\n\u001b[1;32m--> 565\u001b[0m \u001b[38;5;28;01mreturn\u001b[39;00m \u001b[38;5;28;43mself\u001b[39;49m\u001b[38;5;241;43m.\u001b[39;49m\u001b[43m_make_api_call\u001b[49m\u001b[43m(\u001b[49m\u001b[43moperation_name\u001b[49m\u001b[43m,\u001b[49m\u001b[43m \u001b[49m\u001b[43mkwargs\u001b[49m\u001b[43m)\u001b[49m\n",
      "File \u001b[1;32mc:\\AI\\AWS\\.venv\\lib\\site-packages\\botocore\\client.py:1021\u001b[0m, in \u001b[0;36mBaseClient._make_api_call\u001b[1;34m(self, operation_name, api_params)\u001b[0m\n\u001b[0;32m   1017\u001b[0m     error_code \u001b[38;5;241m=\u001b[39m error_info\u001b[38;5;241m.\u001b[39mget(\u001b[38;5;124m\"\u001b[39m\u001b[38;5;124mQueryErrorCode\u001b[39m\u001b[38;5;124m\"\u001b[39m) \u001b[38;5;129;01mor\u001b[39;00m error_info\u001b[38;5;241m.\u001b[39mget(\n\u001b[0;32m   1018\u001b[0m         \u001b[38;5;124m\"\u001b[39m\u001b[38;5;124mCode\u001b[39m\u001b[38;5;124m\"\u001b[39m\n\u001b[0;32m   1019\u001b[0m     )\n\u001b[0;32m   1020\u001b[0m     error_class \u001b[38;5;241m=\u001b[39m \u001b[38;5;28mself\u001b[39m\u001b[38;5;241m.\u001b[39mexceptions\u001b[38;5;241m.\u001b[39mfrom_code(error_code)\n\u001b[1;32m-> 1021\u001b[0m     \u001b[38;5;28;01mraise\u001b[39;00m error_class(parsed_response, operation_name)\n\u001b[0;32m   1022\u001b[0m \u001b[38;5;28;01melse\u001b[39;00m:\n\u001b[0;32m   1023\u001b[0m     \u001b[38;5;28;01mreturn\u001b[39;00m parsed_response\n",
      "\u001b[1;31mValidationException\u001b[0m: An error occurred (ValidationException) when calling the InvokeModel operation: Validation Error"
     ]
    }
   ],
   "source": [
    "response = bedrock_runtime.invoke_model(**kwargs)\n",
    "\n",
    "response"
   ]
  },
  {
   "cell_type": "code",
   "execution_count": 12,
   "metadata": {},
   "outputs": [
    {
     "data": {
      "text/plain": [
       "{'generation': ' containers. Docker containers are lightweight and portable, which makes them easy to use and manage. They are also very secure, as they run in isolation from the host machine and other containers.\\n\\nDocker containers are based on the concept of a \"container\" which is a lightweight and portable package that includes everything an application needs to run, including the code, libraries, and dependencies. Containers are created by running a Docker image, which is a template for a container.\\n\\nDocker images are created by building a Dockerfile, which is a text file that contains instructions for creating a Docker image. The Dockerfile specifies the base image, the command to run, and any additional instructions for building the image.\\n\\nHere is an example of a simple Dockerfile:\\n```\\nFROM python:3.9-slim\\nWORKDIR /app\\nCOPY requirements.txt .\\nRUN pip install -r requirements.txt\\nCOPY . .\\nCMD [\"python\", \"app.py\"]\\n```\\nThis Dockerfile creates a Docker image that runs a Python 3.9 application. It uses the official Python 3.9 image as the base image, and then installs the required packages using pip. It then copies the application code into the container and sets the command to run the application using the `CMD` instruction.\\n\\nTo create a Docker container from this image, you can use the following command:\\n```\\ndocker run -p 8000:8000 mypythonapp\\n```\\nThis command runs the Docker container and maps port 8000 on the host machine to port 8000 in the container. You can then access the application by visiting `http://localhost:8000` in your web browser.\\n\\nDocker containers are very powerful and flexible, and can be used to run a wide range of applications, from web servers to databases to machine learning models. They are also very easy to use and manage, and can be used to create highly scalable and reliable systems.\\n\\nI hope this helps! Let me know if you have any questions or need further clarification.',\n",
       " 'prompt_token_count': 7,\n",
       " 'generation_token_count': 407,\n",
       " 'stop_reason': 'stop'}"
      ]
     },
     "execution_count": 12,
     "metadata": {},
     "output_type": "execute_result"
    }
   ],
   "source": [
    "response_body = json.loads(response.get(\"body\").read())\n",
    "\n",
    "response_body"
   ]
  },
  {
   "cell_type": "code",
   "execution_count": 13,
   "metadata": {},
   "outputs": [
    {
     "data": {
      "text/plain": [
       "' containers. Docker containers are lightweight and portable, which makes them easy to use and manage. They are also very secure, as they run in isolation from the host machine and other containers.\\n\\nDocker containers are based on the concept of a \"container\" which is a lightweight and portable package that includes everything an application needs to run, including the code, libraries, and dependencies. Containers are created by running a Docker image, which is a template for a container.\\n\\nDocker images are created by building a Dockerfile, which is a text file that contains instructions for creating a Docker image. The Dockerfile specifies the base image, the command to run, and any additional instructions for building the image.\\n\\nHere is an example of a simple Dockerfile:\\n```\\nFROM python:3.9-slim\\nWORKDIR /app\\nCOPY requirements.txt .\\nRUN pip install -r requirements.txt\\nCOPY . .\\nCMD [\"python\", \"app.py\"]\\n```\\nThis Dockerfile creates a Docker image that runs a Python 3.9 application. It uses the official Python 3.9 image as the base image, and then installs the required packages using pip. It then copies the application code into the container and sets the command to run the application using the `CMD` instruction.\\n\\nTo create a Docker container from this image, you can use the following command:\\n```\\ndocker run -p 8000:8000 mypythonapp\\n```\\nThis command runs the Docker container and maps port 8000 on the host machine to port 8000 in the container. You can then access the application by visiting `http://localhost:8000` in your web browser.\\n\\nDocker containers are very powerful and flexible, and can be used to run a wide range of applications, from web servers to databases to machine learning models. They are also very easy to use and manage, and can be used to create highly scalable and reliable systems.\\n\\nI hope this helps! Let me know if you have any questions or need further clarification.'"
      ]
     },
     "execution_count": 13,
     "metadata": {},
     "output_type": "execute_result"
    }
   ],
   "source": [
    "completion = response_body.get('generation')\n",
    "\n",
    "completion"
   ]
  }
 ],
 "metadata": {
  "kernelspec": {
   "display_name": ".venv",
   "language": "python",
   "name": "python3"
  },
  "language_info": {
   "codemirror_mode": {
    "name": "ipython",
    "version": 3
   },
   "file_extension": ".py",
   "mimetype": "text/x-python",
   "name": "python",
   "nbconvert_exporter": "python",
   "pygments_lexer": "ipython3",
   "version": "3.10.10"
  }
 },
 "nbformat": 4,
 "nbformat_minor": 2
}
