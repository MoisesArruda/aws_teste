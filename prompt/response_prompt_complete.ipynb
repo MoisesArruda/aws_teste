{
 "cells": [
  {
   "cell_type": "code",
   "execution_count": 1,
   "metadata": {},
   "outputs": [],
   "source": [
    "import os\n",
    "import json\n",
    "import boto3"
   ]
  },
  {
   "cell_type": "code",
   "execution_count": 5,
   "metadata": {},
   "outputs": [],
   "source": [
    "\n",
    "class bedrock_response:\n",
    "\n",
    "    def __init__(self):\n",
    "\n",
    "        self.bedrock=boto3.client(\n",
    "                    service_name=\"bedrock-runtime\", \n",
    "                    region_name='us-east-1'\n",
    "                                )\n",
    "\n",
    "        # Prompts\n",
    "        prompts_path = os.getcwd()\n",
    "\n",
    "        local = (f\"{prompts_path}/prompt_formatacao.txt\")\n",
    "        with open(local,'r', encoding='utf-8')as arquivo:\n",
    "            self.prompt_formatacao = arquivo.read()\n",
    "\n",
    "        local = (f\"{prompts_path}/prompt_classificacao_atendimento_2.txt\")\n",
    "        with open(local,'r', encoding='utf-8')as arquivo:\n",
    "            self.prompt_classificacao = arquivo.read()\n",
    "        \n",
    "        local = (f\"{prompts_path}/prompt_cordialidade.txt\")\n",
    "        with open(local,'r', encoding='utf-8')as arquivo:\n",
    "            self.prompt_cordialidade = arquivo.read()\n",
    "\n",
    "        local = (f\"{prompts_path}/prompt_avalicao_roteiro_1.txt\")\n",
    "        with open(local,'r', encoding='utf-8')as arquivo:\n",
    "            self.prompt_roteiro = arquivo.read()\n",
    "\n",
    "\n",
    "        # Variaveeis\n",
    "\n",
    "    def bedrock_formatacao(self, userInput):\n",
    "\n",
    "        prompt_final = self.prompt_formatacao.replace(\"{question}\", userInput)\n",
    "\n",
    "        body = {\"prompt\": prompt_final,\"temperature\": 0.0}\n",
    "        model_id= \"mistral.mistral-7b-instruct-v0:2\"\n",
    "\n",
    "        response = self.bedrock.invoke_model(modelId=model_id, body=json.dumps(body))\n",
    "        response_body = json.loads(response.get('body').read())\n",
    "        \n",
    "        return response_body['outputs'][0]['text']\n",
    "\n",
    "\n",
    "    def bedrock_classificacao(self, userInput):\n",
    "\n",
    "        resp = self.bedrock_formatacao(userInput)\n",
    "\n",
    "        prompt_final = self.prompt_classificacao.replace(\"{question}\", resp)\n",
    "\n",
    "        body = {\"prompt\": prompt_final,\"temperature\": 0.0,\"max_tokens\":10}\n",
    "        model_id= \"mistral.mistral-7b-instruct-v0:2\"\n",
    "\n",
    "        response = self.bedrock.invoke_model(modelId=model_id, body=json.dumps(body))\n",
    "        response_body = json.loads(response.get('body').read())\n",
    "        \n",
    "        return response_body['outputs'][0]['text']\n",
    "\n",
    "\n",
    "    def bedrock_cordialidade(self,xx):\n",
    "        \n",
    "        # Falta variavel q irá substituir a variavel {question} no prompt\n",
    "        prompt_final = self.prompt_cordialidade.replace(\"{question}\",xx)\n",
    "\n",
    "        body = {\"prompt\": prompt_final,\"temperature\": 0.0,\"max_tokens\":3000}\n",
    "        model_id= \"mistral.mistral-7b-instruct-v0:2\"\n",
    "\n",
    "        response = self.bedrock.invoke_model(modelId=model_id, body=json.dumps(body))\n",
    "        response_body = json.loads(response.get('body').read())\n",
    "        resp =  response_body['outputs'][0]['text']\n",
    "\n",
    "        return resp\n",
    "\n",
    "    #def bedrock_roteiro(self, userInput):"
   ]
  },
  {
   "cell_type": "code",
   "execution_count": 3,
   "metadata": {},
   "outputs": [],
   "source": [
    "question=\"\"\"\n",
    "Igual saneamento. Boa tarde. Meu nome é João. Falo, comia Aparecida, Luciano. Boa tarde. Eu gostaria de saber quais são as faturas que eu tenho e a leitura de cada uma pendente é porque essa casa minha é de aluguel. E aí eu preciso saber certinho, porque saiu e deixou a água sem pagar. Então vo você do senhor. Sim, a matrícula, essa do número 7242 da rua. Peço perdão, senhor. É? Me fala primeiramente seu telefone de contato, e-mail atualizado. 6699 234 9519. Aqui tem outros números cadastrados. Tem 2 fixos, um com o final 1322 e o outro com final 1302. Ainda são válidos? Não, não. Só o celular mesmo. Então tem um outro celular aqui é o final. 5291 ainda é válida. É o da minha filha esse daí, certo? E o e-mail, qual seria? É Sônia Luciano Ferreira. 730. Arroba gmail.com. Esse Sonia, Luciano, só isso? 730 ainda é válido no? É, não é? Certo, esse outro não é válido. Ok, agradeço pelas confirmações das atualizações. Foram feitas só um minuto que eu vou olhar as faturas agora.     Espera só confirmando, tem 2 faturas sim pendentes aqui no caso, uma vencida uma a vencer, AA vencida foi do dia 18 do 12 e a vencer é para o dia 18/01/2024 os valores respectivos. Do dia 18/12/2023. Ela venceu dia 18. Isso do 12 dezembro EEO senhor, tem AOAA leitura dela de quando a quando Ela Foi feita a leitura. Só confirmando o valor, é 510 e 13. A leitura foi feita no dia 11 do 12. Leitura. Dia 11 do 12. E a outra que vai vencer agora no dia 18 do um, no valor de 391 e 76 centavos, foi lida no dia 10 do. 18 do um é qual que é o valor 300, e. 398. Isso e 76 centavos. Espera aí, é? 76 centavos. 76 centavos é 18 do um e a leitura foi feito quando? Dia 10 do um. Dia 10 do um mas você tem con. É é como me dizer, por exemplo, aquela de 510 foi de a leitura foi dia 12 do 12. Mas desde de quando a quando você tem risco esse dado? Diga, Ah, você se refere a quantidade de dias? É por favor, por exemplo, vai ser. Vai ser do mês 11 até do ser pelado. 12. É o que? Eu queria saber se foi feita a anterior, no dia 11 do 12. Então, a partir daquele momento que que a leitura constava em. Passou a ler um período de 31 dias. Deixa eu confirmar aqui, não, você não tem a data assim. Por exemplo, aquela leitura que fo. 30 dias. Mas, por exemplo, essa daqui de 510 Ela Foi feita. A leitura é é de tal de mês 11 que dia do mês 11 até 11 do 12 qual o dia do mês 11 que começou a contar? Ah, tá, anterior era essa a última. A leitura anterior a essa foi no dia 8 do 11, então a partir do dia 8 do 11, entendeu? Isso foi feita 8 a leitura, isso. Dessa que vence dia 18 do um, então foi feita a partir do dia 12 do 12, é isso? 11 do 12 até o dia 10 do um, aí deu 30 dias. 11 do 12, então, né, a 10 do um, tá? E se for pra parcelar, como que funciona? Queria saber. Deixa eu ver aqui. Olha. Parcelamento deixa eu ver se a gente vai conseguir fazer pelo chat tá pelo WhatsApp ou pelo canal de voz ou se é pelo chat pelo WhatsApp.   Agradeço pelo momento em espera. Olha, as condições seriam da seguinte forma isso. Eu estou considerando que não tem parcelamento, tá? Então seria uma entrada de 5% e demais parcelas em até 24 vezes. Se for do que uma entrada de 5%, isso e uma e as parcelas em até 24 vezes. Se for do seu interesse, eu posso tentar fazer uma simulação pra te apresentar com algumas condições. Mas esse esse valor restante aí ele é, com juros aí, né? É, vai sim, vai incidir juros, vai incidir encargos e, no caso, o parcelamento. Ele é feito com de em relação a todo débito que está pendente até esse momento na matriz. Então, embora tenham essas 2 faturas, se, por exemplo, tivesse algum serviço a ser cobrado por fora, algum serviço que foi executado, aí uma substituição de um hidrômetro, por exemplo. O que não foi cobrado diretamente na fatura, ele incluiria nesse parcelamento, entendeu? Ele pega todos os débitos que estão vinculados na matrícula. Se tiver só as 2 faturas, é se tiver só as 2 faturas, vai ser só as 2 faturas. É só só são as 2 faturas. Mas daí você daí aumenta o valor. Aumenta, eu posso. Como eu falei, eu posso fazer a simulação pra te, mas não tem um limite assim, que que não aumenta o valor, que fica o mesmo valor? Hum desconheço. Eu preciso fazer a simulação pra gente ver a diferença. Qual que? Qual que é o valor das contas das 2 contas? Deu quantos? 510 e 13, 391 e 76. Só isso daria 901 e 89, mas provavelmente vai ter algum e 89. Isso provavelmente vai ter algum serviço aqui por fora. Por exemplo, o reajuste de débito. Como essa fatura do mês 12 já está atrasada, provavelmente já foi emitido um reajuste de débito, que é um serviço que está sendo cobrado, né? Pode ser cobrado recentemente. Mas é quanto os serviços, meu Deus, tudo que é quebrado, 13,09, BRL, eu vou fazer a simulação pra te apresentar as condições que aí fica mais fácil de você entender. Tá? Só pra. Gente, ver como é que fica pra você entender melhor e quantas vezes você teria interesse em fazer esse parcelamento. Eu queria ver se Oo as condições das vezes que não fosse cobrado juros, mas você disse que não tem néé qualquer qual, qualquer um vai cobrar sim, quanto menos a parcela vai ser menor, mas qualquer um vai cobrar. Ah, eu não faço idéia do do do do do inglês pra ver o que que dá. OK, vamos simular em 10 aqui só um minuto.  Agradeço pelo momento em espera. Olha confirmando, não teve. AA cobrança do serviço de reais de débito tá na no cálculo aqui quando o sistema foi puxar os débitos não apareceu essa cobrança. Aí a gente vai colocar em 10 vezes. Com entrada de 5%. Vai ficar da seguinte forma, o valor total do parcelamento ficou em 965 e 65 centavos. A entrada à 165, isso isso é 65 centavos. A entrada aumentou no caso. 60 e poucos o juros, né isso? A entrada à lista seria de 45,85 centavos e essa entrada deveria deverá, caso você aceite, né, se paga até o próximo dia útil, a gente, no caso, gera um boleto, envia pro pra você por e-mail, tá? Tem que ser paga até essa data para que o sistema ele possa efetivar o parcelamento e as demais parcelas ficariam em 10 parcelas de. E essas parcelas eu pago pelo que? Nas próximas faturas que serão emitidas. Mas essa não tem como. Vim um parcelamento sem ser na fatura aqui aqui na central, não, tá? Eu não sei se na loja a Gen. A gente sabe que na loja, eles parcelam no cartão de crédito. Mas aqui na central não é possível. Sim, vai aqueles daquele, daquele negócio, o site dá igual lá também não. Parcela no cartão já não sei te confirmar, tá? Mas aqui na central a gente só consegue fazer na fatura. Daí isso daí iria pacotes 90 e pouco, mas daí não incide no. No No esgoto, não. Como assim incide no esgoto? Ai é, é. No momento é 90%. É esgoto? Não é. Não, mas essa, esse esse serviço aí é quando você vai faturar o consumo de água e de esgoto de uma determinada fatura. Isso não incide aqui no passeio. Deixa eu te falar, esse esse parcelamento que vai vim os 90 e poucos todo mês, não vai cobrar em cima dele o esgoto não. Não, não, não. O parcelamento ele vai vim como? Provavelmente ele vai vir na descrição de outros serviços. Aí vai tá lá isso. Dentro de fatura, por exemplo, mês que vem viria primeiro barra 10, um de 10, né? A primeira de 10. E o valor, o que vai ser cobrado de você, de esgoto, consequentemente, vai ser em relação aquilo que for consumido, que for livre, que for faturado nessa próxima leitura que vai vir. Ah, tá, porque daí quando a pessoa que vai estar lá morando de aluguel, se esse negócio parcelado, aí a pessoa vai achar que que vai cobrar em cima, vai cobrar esgoto também. Aí fica complicado, né? É oi assim. Pra gente que já sabe como é que é o procedimento, que já tem conhecimento de como é feito o detalhamento das cobranças na fatura, é extremamente improvável a gente imaginar que é feito dessa forma por quê? Porque quando é feito AOA, cobrança do da serviço de água e de esgoto é colocado lá, por exemplo, 10 m³ consumidos e faturados. Aí vai calcular. Vamos supor que cada metro cúbico é 10 BRL 10 × 10 dá 100, então deu 100 BRL de consumação de água. Serviço de água, então vai. Pegar 90% desse 100 que seria 90 e vai cobrar para AA questão do serviço de esgoto. E daria só isso? 190 os 2. Se você for somado por com os valores restantes das faturas, é impossível você entender é imaginar que aquele parcelamento está embutido automaticamente também No No serviço de esgoto. 100 de água, 90 de esgoto e embaixo vai estar cobrando o parcelamento é isso? Isso vai ter a descrição lá detalhada de do que que está cobrando e ao que se refere. Tá, então tá bom, eu vou, eu vou ver aqui como que eu vou fazer e qualquer coisa tipo, previsão de corte pra quando? Deixa eu confirmar aqui se já tem alguma ordem de serviço. Olha, até o momento não tenho ordem de serviço, tenho comunicado de débito relativo a essa fatura mais antiga, de 510 e 13. Tá aí como não tem ainda a ordem de serviço. Mas o que a gente tem de informação aqui é que a partir de 30 dias que a fatura tá vencida, ou seja, a partir do dia 18. E como eu já tenho um comunicado de débito, automaticamente o sistema vai gerar a qualquer momento uma ordem de serviço pra suspensão do abastecimento. Tá bom? Então aí eu vou ver depois, eu, eu, eu. Entro em contato novamente, tá OK? Quer anotar o número do protocolo? Quero. Posso falar já? É 1141. 11 e 4142 15. 4215. Está bom? Então aí qualquer coisa eu vou, eu volto AA falar com você, tá okay, eu agradeço o contato. Então já que não tem mais nenhuma dúvida, peço que permaneça em linha só para avaliar o atendimento. Tá tenha um bom dia, tá OK? Tá OK?\n",
    "\"\"\""
   ]
  },
  {
   "cell_type": "code",
   "execution_count": 4,
   "metadata": {},
   "outputs": [
    {
     "ename": "FileNotFoundError",
     "evalue": "[Errno 2] No such file or directory: 'c:\\\\AI\\\\AWS\\\\prompt/prompt/prompt_formatacao.txt'",
     "output_type": "error",
     "traceback": [
      "\u001b[1;31m---------------------------------------------------------------------------\u001b[0m",
      "\u001b[1;31mFileNotFoundError\u001b[0m                         Traceback (most recent call last)",
      "Cell \u001b[1;32mIn[4], line 1\u001b[0m\n\u001b[1;32m----> 1\u001b[0m x \u001b[38;5;241m=\u001b[39m \u001b[43mbedrock_response\u001b[49m\u001b[43m(\u001b[49m\u001b[43m)\u001b[49m\u001b[38;5;241m.\u001b[39mbedrock_formatacao(question)\n\u001b[0;32m      2\u001b[0m \u001b[38;5;28mprint\u001b[39m(x)\n",
      "Cell \u001b[1;32mIn[2], line 16\u001b[0m, in \u001b[0;36mbedrock_response.__init__\u001b[1;34m(self)\u001b[0m\n\u001b[0;32m     13\u001b[0m prompts_path \u001b[38;5;241m=\u001b[39m os\u001b[38;5;241m.\u001b[39mgetcwd()\n\u001b[0;32m     15\u001b[0m local \u001b[38;5;241m=\u001b[39m (\u001b[38;5;124mf\u001b[39m\u001b[38;5;124m\"\u001b[39m\u001b[38;5;132;01m{\u001b[39;00mprompts_path\u001b[38;5;132;01m}\u001b[39;00m\u001b[38;5;124m/prompt/prompt_formatacao.txt\u001b[39m\u001b[38;5;124m\"\u001b[39m)\n\u001b[1;32m---> 16\u001b[0m \u001b[38;5;28;01mwith\u001b[39;00m \u001b[38;5;28;43mopen\u001b[39;49m\u001b[43m(\u001b[49m\u001b[43mlocal\u001b[49m\u001b[43m,\u001b[49m\u001b[38;5;124;43m'\u001b[39;49m\u001b[38;5;124;43mr\u001b[39;49m\u001b[38;5;124;43m'\u001b[39;49m\u001b[43m,\u001b[49m\u001b[43m \u001b[49m\u001b[43mencoding\u001b[49m\u001b[38;5;241;43m=\u001b[39;49m\u001b[38;5;124;43m'\u001b[39;49m\u001b[38;5;124;43mutf-8\u001b[39;49m\u001b[38;5;124;43m'\u001b[39;49m\u001b[43m)\u001b[49m\u001b[38;5;28;01mas\u001b[39;00m arquivo:\n\u001b[0;32m     17\u001b[0m     \u001b[38;5;28mself\u001b[39m\u001b[38;5;241m.\u001b[39mprompt_formatacao \u001b[38;5;241m=\u001b[39m arquivo\u001b[38;5;241m.\u001b[39mread()\n\u001b[0;32m     19\u001b[0m local \u001b[38;5;241m=\u001b[39m (\u001b[38;5;124mf\u001b[39m\u001b[38;5;124m\"\u001b[39m\u001b[38;5;132;01m{\u001b[39;00mprompts_path\u001b[38;5;132;01m}\u001b[39;00m\u001b[38;5;124m/prompt/prompt_classificacao_atendimento_2.txt\u001b[39m\u001b[38;5;124m\"\u001b[39m)\n",
      "File \u001b[1;32mc:\\AI\\AWS\\.venv\\lib\\site-packages\\IPython\\core\\interactiveshell.py:324\u001b[0m, in \u001b[0;36m_modified_open\u001b[1;34m(file, *args, **kwargs)\u001b[0m\n\u001b[0;32m    317\u001b[0m \u001b[38;5;28;01mif\u001b[39;00m file \u001b[38;5;129;01min\u001b[39;00m {\u001b[38;5;241m0\u001b[39m, \u001b[38;5;241m1\u001b[39m, \u001b[38;5;241m2\u001b[39m}:\n\u001b[0;32m    318\u001b[0m     \u001b[38;5;28;01mraise\u001b[39;00m \u001b[38;5;167;01mValueError\u001b[39;00m(\n\u001b[0;32m    319\u001b[0m         \u001b[38;5;124mf\u001b[39m\u001b[38;5;124m\"\u001b[39m\u001b[38;5;124mIPython won\u001b[39m\u001b[38;5;124m'\u001b[39m\u001b[38;5;124mt let you open fd=\u001b[39m\u001b[38;5;132;01m{\u001b[39;00mfile\u001b[38;5;132;01m}\u001b[39;00m\u001b[38;5;124m by default \u001b[39m\u001b[38;5;124m\"\u001b[39m\n\u001b[0;32m    320\u001b[0m         \u001b[38;5;124m\"\u001b[39m\u001b[38;5;124mas it is likely to crash IPython. If you know what you are doing, \u001b[39m\u001b[38;5;124m\"\u001b[39m\n\u001b[0;32m    321\u001b[0m         \u001b[38;5;124m\"\u001b[39m\u001b[38;5;124myou can use builtins\u001b[39m\u001b[38;5;124m'\u001b[39m\u001b[38;5;124m open.\u001b[39m\u001b[38;5;124m\"\u001b[39m\n\u001b[0;32m    322\u001b[0m     )\n\u001b[1;32m--> 324\u001b[0m \u001b[38;5;28;01mreturn\u001b[39;00m io_open(file, \u001b[38;5;241m*\u001b[39margs, \u001b[38;5;241m*\u001b[39m\u001b[38;5;241m*\u001b[39mkwargs)\n",
      "\u001b[1;31mFileNotFoundError\u001b[0m: [Errno 2] No such file or directory: 'c:\\\\AI\\\\AWS\\\\prompt/prompt/prompt_formatacao.txt'"
     ]
    }
   ],
   "source": [
    "x = bedrock_response().bedrock_formatacao(question)\n",
    "print(x)"
   ]
  }
 ],
 "metadata": {
  "kernelspec": {
   "display_name": ".venv",
   "language": "python",
   "name": "python3"
  },
  "language_info": {
   "codemirror_mode": {
    "name": "ipython",
    "version": 3
   },
   "file_extension": ".py",
   "mimetype": "text/x-python",
   "name": "python",
   "nbconvert_exporter": "python",
   "pygments_lexer": "ipython3",
   "version": "3.10.10"
  }
 },
 "nbformat": 4,
 "nbformat_minor": 2
}
