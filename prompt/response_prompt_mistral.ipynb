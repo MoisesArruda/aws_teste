{
 "cells": [
  {
   "cell_type": "code",
   "execution_count": 2,
   "metadata": {},
   "outputs": [],
   "source": [
    "import os\n",
    "from langchain.chains import LLMChain\n",
    "from langchain.prompts import load_prompt\n",
    "import json\n",
    "import boto3\n",
    "from langchain.llms.bedrock import Bedrock\n",
    "from langchain.prompts import PromptTemplate"
   ]
  },
  {
   "cell_type": "code",
   "execution_count": 3,
   "metadata": {},
   "outputs": [],
   "source": [
    "bedrock=boto3.client(service_name=\"bedrock-runtime\", \n",
    "                             region_name='us-east-1',\n",
    ")"
   ]
  },
  {
   "cell_type": "code",
   "execution_count": 5,
   "metadata": {},
   "outputs": [],
   "source": [
    "prompts_path = os.getcwd()\n",
    "local = (f\"{prompts_path}/prompt_formatacao.txt\")\n",
    "\n",
    "with open(local,'r', encoding='utf-8')as arquivo:\n",
    "    conteudo = arquivo.read()\n",
    "\n",
    "question=\"\"\"\n",
    "Igual saneamento. Boa tarde. Meu nome é João. Falo, comia Aparecida, Luciano. Boa tarde. Eu gostaria de saber quais são as faturas que eu tenho e a leitura de cada uma pendente é porque essa casa minha é de aluguel. E aí eu preciso saber certinho, porque saiu e deixou a água sem pagar. Então vo você do senhor. Sim, a matrícula, essa do número 7242 da rua. Peço perdão, senhor. É? Me fala primeiramente seu telefone de contato, e-mail atualizado. 6699 234 9519. Aqui tem outros números cadastrados. Tem 2 fixos, um com o final 1322 e o outro com final 1302. Ainda são válidos? Não, não. Só o celular mesmo. Então tem um outro celular aqui é o final. 5291 ainda é válida. É o da minha filha esse daí, certo? E o e-mail, qual seria? É Sônia Luciano Ferreira. 730. Arroba gmail.com. Esse Sonia, Luciano, só isso? 730 ainda é válido no? É, não é? Certo, esse outro não é válido. Ok, agradeço pelas confirmações das atualizações. Foram feitas só um minuto que eu vou olhar as faturas agora.     Espera só confirmando, tem 2 faturas sim pendentes aqui no caso, uma vencida uma a vencer, AA vencida foi do dia 18 do 12 e a vencer é para o dia 18/01/2024 os valores respectivos. Do dia 18/12/2023. Ela venceu dia 18. Isso do 12 dezembro EEO senhor, tem AOAA leitura dela de quando a quando Ela Foi feita a leitura. Só confirmando o valor, é 510 e 13. A leitura foi feita no dia 11 do 12. Leitura. Dia 11 do 12. E a outra que vai vencer agora no dia 18 do um, no valor de 391 e 76 centavos, foi lida no dia 10 do. 18 do um é qual que é o valor 300, e. 398. Isso e 76 centavos. Espera aí, é? 76 centavos. 76 centavos é 18 do um e a leitura foi feito quando? Dia 10 do um. Dia 10 do um mas você tem con. É é como me dizer, por exemplo, aquela de 510 foi de a leitura foi dia 12 do 12. Mas desde de quando a quando você tem risco esse dado? Diga, Ah, você se refere a quantidade de dias? É por favor, por exemplo, vai ser. Vai ser do mês 11 até do ser pelado. 12. É o que? Eu queria saber se foi feita a anterior, no dia 11 do 12. Então, a partir daquele momento que que a leitura constava em. Passou a ler um período de 31 dias. Deixa eu confirmar aqui, não, você não tem a data assim. Por exemplo, aquela leitura que fo. 30 dias. Mas, por exemplo, essa daqui de 510 Ela Foi feita. A leitura é é de tal de mês 11 que dia do mês 11 até 11 do 12 qual o dia do mês 11 que começou a contar? Ah, tá, anterior era essa a última. A leitura anterior a essa foi no dia 8 do 11, então a partir do dia 8 do 11, entendeu? Isso foi feita 8 a leitura, isso. Dessa que vence dia 18 do um, então foi feita a partir do dia 12 do 12, é isso? 11 do 12 até o dia 10 do um, aí deu 30 dias. 11 do 12, então, né, a 10 do um, tá? E se for pra parcelar, como que funciona? Queria saber. Deixa eu ver aqui. Olha. Parcelamento deixa eu ver se a gente vai conseguir fazer pelo chat tá pelo WhatsApp ou pelo canal de voz ou se é pelo chat pelo WhatsApp.   Agradeço pelo momento em espera. Olha, as condições seriam da seguinte forma isso. Eu estou considerando que não tem parcelamento, tá? Então seria uma entrada de 5% e demais parcelas em até 24 vezes. Se for do que uma entrada de 5%, isso e uma e as parcelas em até 24 vezes. Se for do seu interesse, eu posso tentar fazer uma simulação pra te apresentar com algumas condições. Mas esse esse valor restante aí ele é, com juros aí, né? É, vai sim, vai incidir juros, vai incidir encargos e, no caso, o parcelamento. Ele é feito com de em relação a todo débito que está pendente até esse momento na matriz. Então, embora tenham essas 2 faturas, se, por exemplo, tivesse algum serviço a ser cobrado por fora, algum serviço que foi executado, aí uma substituição de um hidrômetro, por exemplo. O que não foi cobrado diretamente na fatura, ele incluiria nesse parcelamento, entendeu? Ele pega todos os débitos que estão vinculados na matrícula. Se tiver só as 2 faturas, é se tiver só as 2 faturas, vai ser só as 2 faturas. É só só são as 2 faturas. Mas daí você daí aumenta o valor. Aumenta, eu posso. Como eu falei, eu posso fazer a simulação pra te, mas não tem um limite assim, que que não aumenta o valor, que fica o mesmo valor? Hum desconheço. Eu preciso fazer a simulação pra gente ver a diferença. Qual que? Qual que é o valor das contas das 2 contas? Deu quantos? 510 e 13, 391 e 76. Só isso daria 901 e 89, mas provavelmente vai ter algum e 89. Isso provavelmente vai ter algum serviço aqui por fora. Por exemplo, o reajuste de débito. Como essa fatura do mês 12 já está atrasada, provavelmente já foi emitido um reajuste de débito, que é um serviço que está sendo cobrado, né? Pode ser cobrado recentemente. Mas é quanto os serviços, meu Deus, tudo que é quebrado, 13,09, BRL, eu vou fazer a simulação pra te apresentar as condições que aí fica mais fácil de você entender. Tá? Só pra. Gente, ver como é que fica pra você entender melhor e quantas vezes você teria interesse em fazer esse parcelamento. Eu queria ver se Oo as condições das vezes que não fosse cobrado juros, mas você disse que não tem néé qualquer qual, qualquer um vai cobrar sim, quanto menos a parcela vai ser menor, mas qualquer um vai cobrar. Ah, eu não faço idéia do do do do do inglês pra ver o que que dá. OK, vamos simular em 10 aqui só um minuto.  Agradeço pelo momento em espera. Olha confirmando, não teve. AA cobrança do serviço de reais de débito tá na no cálculo aqui quando o sistema foi puxar os débitos não apareceu essa cobrança. Aí a gente vai colocar em 10 vezes. Com entrada de 5%. Vai ficar da seguinte forma, o valor total do parcelamento ficou em 965 e 65 centavos. A entrada à 165, isso isso é 65 centavos. A entrada aumentou no caso. 60 e poucos o juros, né isso? A entrada à lista seria de 45,85 centavos e essa entrada deveria deverá, caso você aceite, né, se paga até o próximo dia útil, a gente, no caso, gera um boleto, envia pro pra você por e-mail, tá? Tem que ser paga até essa data para que o sistema ele possa efetivar o parcelamento e as demais parcelas ficariam em 10 parcelas de. E essas parcelas eu pago pelo que? Nas próximas faturas que serão emitidas. Mas essa não tem como. Vim um parcelamento sem ser na fatura aqui aqui na central, não, tá? Eu não sei se na loja a Gen. A gente sabe que na loja, eles parcelam no cartão de crédito. Mas aqui na central não é possível. Sim, vai aqueles daquele, daquele negócio, o site dá igual lá também não. Parcela no cartão já não sei te confirmar, tá? Mas aqui na central a gente só consegue fazer na fatura. Daí isso daí iria pacotes 90 e pouco, mas daí não incide no. No No esgoto, não. Como assim incide no esgoto? Ai é, é. No momento é 90%. É esgoto? Não é. Não, mas essa, esse esse serviço aí é quando você vai faturar o consumo de água e de esgoto de uma determinada fatura. Isso não incide aqui no passeio. Deixa eu te falar, esse esse parcelamento que vai vim os 90 e poucos todo mês, não vai cobrar em cima dele o esgoto não. Não, não, não. O parcelamento ele vai vim como? Provavelmente ele vai vir na descrição de outros serviços. Aí vai tá lá isso. Dentro de fatura, por exemplo, mês que vem viria primeiro barra 10, um de 10, né? A primeira de 10. E o valor, o que vai ser cobrado de você, de esgoto, consequentemente, vai ser em relação aquilo que for consumido, que for livre, que for faturado nessa próxima leitura que vai vir. Ah, tá, porque daí quando a pessoa que vai estar lá morando de aluguel, se esse negócio parcelado, aí a pessoa vai achar que que vai cobrar em cima, vai cobrar esgoto também. Aí fica complicado, né? É oi assim. Pra gente que já sabe como é que é o procedimento, que já tem conhecimento de como é feito o detalhamento das cobranças na fatura, é extremamente improvável a gente imaginar que é feito dessa forma por quê? Porque quando é feito AOA, cobrança do da serviço de água e de esgoto é colocado lá, por exemplo, 10 m³ consumidos e faturados. Aí vai calcular. Vamos supor que cada metro cúbico é 10 BRL 10 × 10 dá 100, então deu 100 BRL de consumação de água. Serviço de água, então vai. Pegar 90% desse 100 que seria 90 e vai cobrar para AA questão do serviço de esgoto. E daria só isso? 190 os 2. Se você for somado por com os valores restantes das faturas, é impossível você entender é imaginar que aquele parcelamento está embutido automaticamente também No No serviço de esgoto. 100 de água, 90 de esgoto e embaixo vai estar cobrando o parcelamento é isso? Isso vai ter a descrição lá detalhada de do que que está cobrando e ao que se refere. Tá, então tá bom, eu vou, eu vou ver aqui como que eu vou fazer e qualquer coisa tipo, previsão de corte pra quando? Deixa eu confirmar aqui se já tem alguma ordem de serviço. Olha, até o momento não tenho ordem de serviço, tenho comunicado de débito relativo a essa fatura mais antiga, de 510 e 13. Tá aí como não tem ainda a ordem de serviço. Mas o que a gente tem de informação aqui é que a partir de 30 dias que a fatura tá vencida, ou seja, a partir do dia 18. E como eu já tenho um comunicado de débito, automaticamente o sistema vai gerar a qualquer momento uma ordem de serviço pra suspensão do abastecimento. Tá bom? Então aí eu vou ver depois, eu, eu, eu. Entro em contato novamente, tá OK? Quer anotar o número do protocolo? Quero. Posso falar já? É 1141. 11 e 4142 15. 4215. Está bom? Então aí qualquer coisa eu vou, eu volto AA falar com você, tá okay, eu agradeço o contato. Então já que não tem mais nenhuma dúvida, peço que permaneça em linha só para avaliar o atendimento. Tá tenha um bom dia, tá OK? Tá OK?\n",
    "\"\"\"\n",
    "\n",
    "prompt_final = conteudo.replace(\"{question}\", question)"
   ]
  },
  {
   "cell_type": "code",
   "execution_count": 6,
   "metadata": {},
   "outputs": [
    {
     "name": "stdout",
     "output_type": "stream",
     "text": [
      "\"<s> [INST] Responda em Portugues. A MENSAGEM a seguir representa um diálogo entre um atendente e um cliente da empresa Igua Saneamento. O atendente sempre iniciara a conversa da seguinte forma: 'Igua Saneamento. Bom dia, aqui é , com quem eu falo?'. Sua tarefa e identificar e separar as mensagens do cliente e do atendente, atribuindo corretamente cada interação. Apresente as mensagens do atendente precedidas por '- Atendente:', e as mensagens do cliente precedidas por '- Cliente:'.\\n\\n>>>MENSAGEM: \n",
      "Igual saneamento. Boa tarde. Meu nome é João. Falo, comia Aparecida, Luciano. Boa tarde. Eu gostaria de saber quais são as faturas que eu tenho e a leitura de cada uma pendente é porque essa casa minha é de aluguel. E aí eu preciso saber certinho, porque saiu e deixou a água sem pagar. Então vo você do senhor. Sim, a matrícula, essa do número 7242 da rua. Peço perdão, senhor. É? Me fala primeiramente seu telefone de contato, e-mail atualizado. 6699 234 9519. Aqui tem outros números cadastrados. Tem 2 fixos, um com o final 1322 e o outro com final 1302. Ainda são válidos? Não, não. Só o celular mesmo. Então tem um outro celular aqui é o final. 5291 ainda é válida. É o da minha filha esse daí, certo? E o e-mail, qual seria? É Sônia Luciano Ferreira. 730. Arroba gmail.com. Esse Sonia, Luciano, só isso? 730 ainda é válido no? É, não é? Certo, esse outro não é válido. Ok, agradeço pelas confirmações das atualizações. Foram feitas só um minuto que eu vou olhar as faturas agora.     Espera só confirmando, tem 2 faturas sim pendentes aqui no caso, uma vencida uma a vencer, AA vencida foi do dia 18 do 12 e a vencer é para o dia 18/01/2024 os valores respectivos. Do dia 18/12/2023. Ela venceu dia 18. Isso do 12 dezembro EEO senhor, tem AOAA leitura dela de quando a quando Ela Foi feita a leitura. Só confirmando o valor, é 510 e 13. A leitura foi feita no dia 11 do 12. Leitura. Dia 11 do 12. E a outra que vai vencer agora no dia 18 do um, no valor de 391 e 76 centavos, foi lida no dia 10 do. 18 do um é qual que é o valor 300, e. 398. Isso e 76 centavos. Espera aí, é? 76 centavos. 76 centavos é 18 do um e a leitura foi feito quando? Dia 10 do um. Dia 10 do um mas você tem con. É é como me dizer, por exemplo, aquela de 510 foi de a leitura foi dia 12 do 12. Mas desde de quando a quando você tem risco esse dado? Diga, Ah, você se refere a quantidade de dias? É por favor, por exemplo, vai ser. Vai ser do mês 11 até do ser pelado. 12. É o que? Eu queria saber se foi feita a anterior, no dia 11 do 12. Então, a partir daquele momento que que a leitura constava em. Passou a ler um período de 31 dias. Deixa eu confirmar aqui, não, você não tem a data assim. Por exemplo, aquela leitura que fo. 30 dias. Mas, por exemplo, essa daqui de 510 Ela Foi feita. A leitura é é de tal de mês 11 que dia do mês 11 até 11 do 12 qual o dia do mês 11 que começou a contar? Ah, tá, anterior era essa a última. A leitura anterior a essa foi no dia 8 do 11, então a partir do dia 8 do 11, entendeu? Isso foi feita 8 a leitura, isso. Dessa que vence dia 18 do um, então foi feita a partir do dia 12 do 12, é isso? 11 do 12 até o dia 10 do um, aí deu 30 dias. 11 do 12, então, né, a 10 do um, tá? E se for pra parcelar, como que funciona? Queria saber. Deixa eu ver aqui. Olha. Parcelamento deixa eu ver se a gente vai conseguir fazer pelo chat tá pelo WhatsApp ou pelo canal de voz ou se é pelo chat pelo WhatsApp.   Agradeço pelo momento em espera. Olha, as condições seriam da seguinte forma isso. Eu estou considerando que não tem parcelamento, tá? Então seria uma entrada de 5% e demais parcelas em até 24 vezes. Se for do que uma entrada de 5%, isso e uma e as parcelas em até 24 vezes. Se for do seu interesse, eu posso tentar fazer uma simulação pra te apresentar com algumas condições. Mas esse esse valor restante aí ele é, com juros aí, né? É, vai sim, vai incidir juros, vai incidir encargos e, no caso, o parcelamento. Ele é feito com de em relação a todo débito que está pendente até esse momento na matriz. Então, embora tenham essas 2 faturas, se, por exemplo, tivesse algum serviço a ser cobrado por fora, algum serviço que foi executado, aí uma substituição de um hidrômetro, por exemplo. O que não foi cobrado diretamente na fatura, ele incluiria nesse parcelamento, entendeu? Ele pega todos os débitos que estão vinculados na matrícula. Se tiver só as 2 faturas, é se tiver só as 2 faturas, vai ser só as 2 faturas. É só só são as 2 faturas. Mas daí você daí aumenta o valor. Aumenta, eu posso. Como eu falei, eu posso fazer a simulação pra te, mas não tem um limite assim, que que não aumenta o valor, que fica o mesmo valor? Hum desconheço. Eu preciso fazer a simulação pra gente ver a diferença. Qual que? Qual que é o valor das contas das 2 contas? Deu quantos? 510 e 13, 391 e 76. Só isso daria 901 e 89, mas provavelmente vai ter algum e 89. Isso provavelmente vai ter algum serviço aqui por fora. Por exemplo, o reajuste de débito. Como essa fatura do mês 12 já está atrasada, provavelmente já foi emitido um reajuste de débito, que é um serviço que está sendo cobrado, né? Pode ser cobrado recentemente. Mas é quanto os serviços, meu Deus, tudo que é quebrado, 13,09, BRL, eu vou fazer a simulação pra te apresentar as condições que aí fica mais fácil de você entender. Tá? Só pra. Gente, ver como é que fica pra você entender melhor e quantas vezes você teria interesse em fazer esse parcelamento. Eu queria ver se Oo as condições das vezes que não fosse cobrado juros, mas você disse que não tem néé qualquer qual, qualquer um vai cobrar sim, quanto menos a parcela vai ser menor, mas qualquer um vai cobrar. Ah, eu não faço idéia do do do do do inglês pra ver o que que dá. OK, vamos simular em 10 aqui só um minuto.  Agradeço pelo momento em espera. Olha confirmando, não teve. AA cobrança do serviço de reais de débito tá na no cálculo aqui quando o sistema foi puxar os débitos não apareceu essa cobrança. Aí a gente vai colocar em 10 vezes. Com entrada de 5%. Vai ficar da seguinte forma, o valor total do parcelamento ficou em 965 e 65 centavos. A entrada à 165, isso isso é 65 centavos. A entrada aumentou no caso. 60 e poucos o juros, né isso? A entrada à lista seria de 45,85 centavos e essa entrada deveria deverá, caso você aceite, né, se paga até o próximo dia útil, a gente, no caso, gera um boleto, envia pro pra você por e-mail, tá? Tem que ser paga até essa data para que o sistema ele possa efetivar o parcelamento e as demais parcelas ficariam em 10 parcelas de. E essas parcelas eu pago pelo que? Nas próximas faturas que serão emitidas. Mas essa não tem como. Vim um parcelamento sem ser na fatura aqui aqui na central, não, tá? Eu não sei se na loja a Gen. A gente sabe que na loja, eles parcelam no cartão de crédito. Mas aqui na central não é possível. Sim, vai aqueles daquele, daquele negócio, o site dá igual lá também não. Parcela no cartão já não sei te confirmar, tá? Mas aqui na central a gente só consegue fazer na fatura. Daí isso daí iria pacotes 90 e pouco, mas daí não incide no. No No esgoto, não. Como assim incide no esgoto? Ai é, é. No momento é 90%. É esgoto? Não é. Não, mas essa, esse esse serviço aí é quando você vai faturar o consumo de água e de esgoto de uma determinada fatura. Isso não incide aqui no passeio. Deixa eu te falar, esse esse parcelamento que vai vim os 90 e poucos todo mês, não vai cobrar em cima dele o esgoto não. Não, não, não. O parcelamento ele vai vim como? Provavelmente ele vai vir na descrição de outros serviços. Aí vai tá lá isso. Dentro de fatura, por exemplo, mês que vem viria primeiro barra 10, um de 10, né? A primeira de 10. E o valor, o que vai ser cobrado de você, de esgoto, consequentemente, vai ser em relação aquilo que for consumido, que for livre, que for faturado nessa próxima leitura que vai vir. Ah, tá, porque daí quando a pessoa que vai estar lá morando de aluguel, se esse negócio parcelado, aí a pessoa vai achar que que vai cobrar em cima, vai cobrar esgoto também. Aí fica complicado, né? É oi assim. Pra gente que já sabe como é que é o procedimento, que já tem conhecimento de como é feito o detalhamento das cobranças na fatura, é extremamente improvável a gente imaginar que é feito dessa forma por quê? Porque quando é feito AOA, cobrança do da serviço de água e de esgoto é colocado lá, por exemplo, 10 m³ consumidos e faturados. Aí vai calcular. Vamos supor que cada metro cúbico é 10 BRL 10 × 10 dá 100, então deu 100 BRL de consumação de água. Serviço de água, então vai. Pegar 90% desse 100 que seria 90 e vai cobrar para AA questão do serviço de esgoto. E daria só isso? 190 os 2. Se você for somado por com os valores restantes das faturas, é impossível você entender é imaginar que aquele parcelamento está embutido automaticamente também No No serviço de esgoto. 100 de água, 90 de esgoto e embaixo vai estar cobrando o parcelamento é isso? Isso vai ter a descrição lá detalhada de do que que está cobrando e ao que se refere. Tá, então tá bom, eu vou, eu vou ver aqui como que eu vou fazer e qualquer coisa tipo, previsão de corte pra quando? Deixa eu confirmar aqui se já tem alguma ordem de serviço. Olha, até o momento não tenho ordem de serviço, tenho comunicado de débito relativo a essa fatura mais antiga, de 510 e 13. Tá aí como não tem ainda a ordem de serviço. Mas o que a gente tem de informação aqui é que a partir de 30 dias que a fatura tá vencida, ou seja, a partir do dia 18. E como eu já tenho um comunicado de débito, automaticamente o sistema vai gerar a qualquer momento uma ordem de serviço pra suspensão do abastecimento. Tá bom? Então aí eu vou ver depois, eu, eu, eu. Entro em contato novamente, tá OK? Quer anotar o número do protocolo? Quero. Posso falar já? É 1141. 11 e 4142 15. 4215. Está bom? Então aí qualquer coisa eu vou, eu volto AA falar com você, tá okay, eu agradeço o contato. Então já que não tem mais nenhuma dúvida, peço que permaneça em linha só para avaliar o atendimento. Tá tenha um bom dia, tá OK? Tá OK?\n",
      " [/INST]\"\n"
     ]
    }
   ],
   "source": [
    "print(prompt_final)"
   ]
  },
  {
   "cell_type": "code",
   "execution_count": 7,
   "metadata": {},
   "outputs": [],
   "source": [
    "body = {\n",
    "    \"prompt\": prompt_final,\n",
    "    \"temperature\": 0.0,\n",
    "    \"max_tokens\":3000\n",
    "}\n",
    "\n",
    "model_id= \"mistral.mistral-7b-instruct-v0:2\""
   ]
  },
  {
   "cell_type": "code",
   "execution_count": 9,
   "metadata": {},
   "outputs": [
    {
     "name": "stdout",
     "output_type": "stream",
     "text": [
      " I'm here to help answer any question you might have or engage in a conversation on a topic of your choice. You can prompt me with a question, a topic, or even a thought you'd like to explore. I'm designed to provide accurate and helpful information, as well as engage in a friendly and conversational manner. So, feel free to share what's on your mind!\n",
      "\n",
      "For example, you might ask me a question like \"What is the capital city of France?\" or \"How do I make a great cup of coffee?\" or \"Can you tell me a good joke?\" Or, you might ask me to explain a complex concept like quantum physics or the theory of relativity. Or, we could have a conversation about a book, a movie, or a current event.\n",
      "\n",
      "Whatever you'd like to discuss, I'm here to help make the experience enjoyable and enlightening. So, go ahead and give me a prompt\n"
     ]
    }
   ],
   "source": [
    "\n",
    "kwargs={\n",
    " \"modelId\": \"mistral.mistral-7b-instruct-v0:2\",\n",
    " \"contentType\": \"application/json\",\n",
    " \"accept\": \"application/json\",\n",
    " \"body\": \"{\\\"prompt\\\":\\\"<s>[INST] {prompt} [/INST]\\\", \\\"max_tokens\\\":200, \\\"temperature\\\":0.5, \\\"top_p\\\":0.9, \\\"top_k\\\":50}\"\n",
    "}\n",
    " \n",
    "response = bedrock.invoke_model(**kwargs)\n",
    "response_body = json.loads(response.get('body').read())\n",
    " \n",
    " \n",
    "print(response_body['outputs'][0]['text'])"
   ]
  },
  {
   "cell_type": "code",
   "execution_count": 10,
   "metadata": {},
   "outputs": [],
   "source": [
    "response = bedrock.invoke_model(modelId=model_id, body=json.dumps(body))"
   ]
  },
  {
   "cell_type": "code",
   "execution_count": 11,
   "metadata": {},
   "outputs": [
    {
     "name": "stdout",
     "output_type": "stream",
     "text": [
      "- Atendente: Igua Saneamento. Boa tarde. Quem falo?\n",
      "- Cliente: Meu nome é João. Falo com Aparecida, Luciano. Boa tarde. Eu gostaria de saber quais são as faturas que eu tenho e a leitura de cada uma pendente, pois minha casa é de aluguel.\n",
      "- Atendente: Para confirmar, você deseja saber as faturas atuais e as leituras correspondentes pendentes para a casa alugada?\n",
      "- Cliente: Sim, isso. Tem 2 faturas pendentes, uma vencida e outra a vencer.\n",
      "- Atendente: Entendido. A fatura vencida foi do mês 12, com valor de 510 e 13. A leitura foi feita no dia 11 do 12 e o valor correspondente à leitura foi 510. A fatura a vencer é para o mês 1, com valor de 391 e 76 centavos. A leitura foi feita no dia 10 do 1 e o valor correspondente à leitura foi 391 e 76 centavos.\n",
      "- Cliente: Isso correto? A leitura da fatura vencida foi feita entre os dias 11 do 12?\n",
      "- Atendente: Sim, a leitura foi feita entre os dias 8 do 11 e 10 do 12, totalizando 30 dias.\n",
      "- Cliente: Então, a partir do dia 11 do 12, a leitura foi feita a cada 30 dias?\n",
      "- Atendente: Não, a partir do dia 11 do 12, a leitura foi feita a cada 31 dias.\n",
      "- Cliente: Então, a partir do dia 11 do 12, a leitura foi feita a cada 31 dias até a data atual?\n",
      "- Atendente: Sim, isso é correto.\n",
      "- Cliente: Então, se eu quiser parcelar, como funciona?\n",
      "- Atendente: Se você deseja parcelar, o valor total do parcelamento será calculado com uma entrada inicial de 5% e as demais parcelas em até 24 vezes. Por exemplo, com os valores das contas atuais, o valor total do parcelamento seria de 965 e 65 centavos. A entrada inicial seria de 45,85 centavos e as demais parcelas seriam de 41,31 reais.\n",
      "- Cliente: Mas eu não quero que o esgoto seja cobrado no parcelamento.\n",
      "- Atendente: Entendido. O parcelamento não incluirá o serviço de esgoto.\n",
      "- Cliente: Então, eu vou olhar as faturas agora.\n",
      "- Atendente: Então, se você tiver mais dúvidas, por favor, entre em contato novamente. Tenha um bom dia.\"\n"
     ]
    }
   ],
   "source": [
    "response_body = json.loads(response.get('body').read())\n",
    "\n",
    "\n",
    "print(response_body['outputs'][0]['text'])"
   ]
  }
 ],
 "metadata": {
  "kernelspec": {
   "display_name": ".venv",
   "language": "python",
   "name": "python3"
  },
  "language_info": {
   "codemirror_mode": {
    "name": "ipython",
    "version": 3
   },
   "file_extension": ".py",
   "mimetype": "text/x-python",
   "name": "python",
   "nbconvert_exporter": "python",
   "pygments_lexer": "ipython3",
   "version": "3.10.10"
  }
 },
 "nbformat": 4,
 "nbformat_minor": 2
}
